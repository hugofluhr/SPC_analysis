{
 "cells": [
  {
   "cell_type": "code",
   "execution_count": 13,
   "metadata": {},
   "outputs": [],
   "source": [
    "from sdtfile import SdtFile\n",
    "from scipy import io\n",
    "import numpy as np\n",
    "import os\n",
    "import sys\n",
    "import glob\n",
    "import myConvFunc\n",
    "from importlib import reload\n",
    "reload(myConvFunc);"
   ]
  },
  {
   "cell_type": "code",
   "execution_count": 20,
   "metadata": {},
   "outputs": [],
   "source": [
    "rootdir = r\"H:\\2p\\stephen\"\n",
    "exfile = \"/H:/2p/stephen/SZ333/200305_SZ333/FLIM/200305_SZ333_run1/200305_SZ333_run1_c1.sdt\""
   ]
  },
  {
   "cell_type": "code",
   "execution_count": 21,
   "metadata": {},
   "outputs": [],
   "source": [
    "akarMicepath = '../akarMice.mat'\n",
    "akarMice = [name[0] for name in list(np.squeeze((io.loadmat(akarMicepath))['akarMice']))]"
   ]
  },
  {
   "cell_type": "code",
   "execution_count": 22,
   "metadata": {},
   "outputs": [
    {
     "name": "stdout",
     "output_type": "stream",
     "text": [
      "Nbr. of sdt files = 7355\n",
      "Nbr. of slice files = 5141\n",
      "Nbr. of akar slice files = 1906\n"
     ]
    }
   ],
   "source": [
    "sdtFiles=sorted(glob.glob('H:/2p/stephen/**/*.sdt',recursive=True))\n",
    "grinFiles = [file for file in sdtFiles if 'run' in file]\n",
    "grinAkarFiles = [file for file in grinFiles if any(mice in file for mice in akarMice)]\n",
    "\n",
    "print('Nbr. of sdt files = %d\\nNbr. of slice files = %d\\nNbr. of akar slice files = %d'%(len(sdtFiles),len(grinFiles),len(grinAkarFiles)))"
   ]
  },
  {
   "cell_type": "code",
   "execution_count": 26,
   "metadata": {},
   "outputs": [],
   "source": [
    "for file in grinAkarFiles:\n",
    "    matPath = os.path.splitext(file)[0]+'.mat'\n",
    "    assert(os.path.isfile(matPath))"
   ]
  },
  {
   "cell_type": "code",
   "execution_count": 5,
   "metadata": {},
   "outputs": [],
   "source": [
    "from matplotlib import pyplot as plt"
   ]
  },
  {
   "cell_type": "code",
   "execution_count": 6,
   "metadata": {
    "scrolled": true
   },
   "outputs": [],
   "source": [
    "from multiprocessing import Pool\n",
    "import multiprocessing\n",
    "import time"
   ]
  },
  {
   "cell_type": "code",
   "execution_count": 7,
   "metadata": {
    "scrolled": true
   },
   "outputs": [
    {
     "data": {
      "text/plain": [
       "80"
      ]
     },
     "execution_count": 7,
     "metadata": {},
     "output_type": "execute_result"
    }
   ],
   "source": [
    "multiprocessing.cpu_count()"
   ]
  },
  {
   "cell_type": "code",
   "execution_count": 18,
   "metadata": {},
   "outputs": [
    {
     "name": "stdout",
     "output_type": "stream",
     "text": [
      "Time to launch pool : 0.11038708686828613\n",
      "Time to run on files : 2042.2565898895264\n"
     ]
    }
   ],
   "source": [
    "num_cores = 40 #multiprocessing.cpu_count()\n",
    "inputs = grinAkarFiles\n",
    "\n",
    "if __name__ == \"__main__\":\n",
    "    t = time.time()\n",
    "    p = Pool(num_cores)\n",
    "    print('Time to launch pool : ' + str(time.time()-t))\n",
    "    t = time.time()\n",
    "    p.map(myConvFunc.convert_and_save,inputs)\n",
    "    print('Time to run on files : ' + str(time.time()-t))"
   ]
  },
  {
   "cell_type": "code",
   "execution_count": 19,
   "metadata": {},
   "outputs": [],
   "source": [
    "p.close()"
   ]
  },
  {
   "cell_type": "code",
   "execution_count": 17,
   "metadata": {},
   "outputs": [
    {
     "data": {
      "text/plain": [
       "102.6"
      ]
     },
     "execution_count": 17,
     "metadata": {},
     "output_type": "execute_result"
    }
   ],
   "source": [
    "0.27*1900/5"
   ]
  },
  {
   "cell_type": "code",
   "execution_count": null,
   "metadata": {},
   "outputs": [],
   "source": []
  }
 ],
 "metadata": {
  "kernelspec": {
   "display_name": "Python 3",
   "language": "python",
   "name": "python3"
  },
  "language_info": {
   "codemirror_mode": {
    "name": "ipython",
    "version": 3
   },
   "file_extension": ".py",
   "mimetype": "text/x-python",
   "name": "python",
   "nbconvert_exporter": "python",
   "pygments_lexer": "ipython3",
   "version": "3.8.3"
  }
 },
 "nbformat": 4,
 "nbformat_minor": 4
}
